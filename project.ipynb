{
 "cells": [
  {
   "cell_type": "code",
   "execution_count": null,
   "id": "894c9517-6cf8-4816-ade0-a6bdca8283bb",
   "metadata": {},
   "outputs": [],
   "source": [
    "# installing required libraries "
   ]
  },
  {
   "cell_type": "code",
   "execution_count": 1,
   "id": "28ab17ac-844d-4a4d-ab37-821a3aec00da",
   "metadata": {},
   "outputs": [
    {
     "name": "stdout",
     "output_type": "stream",
     "text": [
      "Requirement already satisfied: nltk in /home/user/.local/lib/python3.8/site-packages (3.8.1)\n",
      "Requirement already satisfied: tqdm in /home/user/.local/lib/python3.8/site-packages (from nltk) (4.66.4)\n",
      "Requirement already satisfied: regex>=2021.8.3 in /home/user/.local/lib/python3.8/site-packages (from nltk) (2024.5.15)\n",
      "Requirement already satisfied: click in /usr/lib/python3/dist-packages (from nltk) (7.0)\n",
      "Requirement already satisfied: joblib in /home/user/.local/lib/python3.8/site-packages (from nltk) (1.4.2)\n"
     ]
    }
   ],
   "source": [
    "!pip install nltk\n"
   ]
  },
  {
   "cell_type": "code",
   "execution_count": 1,
   "id": "5003ce40-5bbd-449e-99b7-2df44eb29f96",
   "metadata": {},
   "outputs": [],
   "source": [
    "# importing required libraries "
   ]
  },
  {
   "cell_type": "code",
   "execution_count": 1,
   "id": "be345755-603c-4392-8c47-30e907863a63",
   "metadata": {},
   "outputs": [],
   "source": [
    "import nltk"
   ]
  },
  {
   "cell_type": "code",
   "execution_count": 2,
   "id": "eed089ba-c32b-4e81-bdb5-8f5750346688",
   "metadata": {},
   "outputs": [],
   "source": [
    "from nltk.sentiment.vader import SentimentIntensityAnalyzer"
   ]
  },
  {
   "cell_type": "code",
   "execution_count": 3,
   "id": "fde3122b-424e-4762-b14d-800593130cb8",
   "metadata": {},
   "outputs": [],
   "source": [
    "from nltk.tokenize import word_tokenize"
   ]
  },
  {
   "cell_type": "code",
   "execution_count": 12,
   "id": "2fcde38b-5339-4846-a8f9-e299c8b5e228",
   "metadata": {},
   "outputs": [],
   "source": [
    "import pandas as pd"
   ]
  },
  {
   "cell_type": "code",
   "execution_count": 13,
   "id": "89406b21-4039-4ce8-89f8-3c32ddd6c200",
   "metadata": {},
   "outputs": [],
   "source": [
    "# downloading required NLTK resources "
   ]
  },
  {
   "cell_type": "code",
   "execution_count": 17,
   "id": "2b6aa59d-5cd4-4c22-88b0-2e039c9a1ea4",
   "metadata": {},
   "outputs": [
    {
     "name": "stderr",
     "output_type": "stream",
     "text": [
      "[nltk_data] Downloading package vader_lexicon to\n",
      "[nltk_data]     /home/user/nltk_data...\n",
      "[nltk_data]   Package vader_lexicon is already up-to-date!\n"
     ]
    },
    {
     "data": {
      "text/plain": [
       "True"
      ]
     },
     "execution_count": 17,
     "metadata": {},
     "output_type": "execute_result"
    }
   ],
   "source": [
    "nltk.download('vader_lexicon')"
   ]
  },
  {
   "cell_type": "code",
   "execution_count": 18,
   "id": "fb910c6a-bbc8-4982-a5bc-ee227c06b18e",
   "metadata": {},
   "outputs": [
    {
     "name": "stderr",
     "output_type": "stream",
     "text": [
      "[nltk_data] Downloading package punkt to /home/user/nltk_data...\n",
      "[nltk_data]   Package punkt is already up-to-date!\n"
     ]
    },
    {
     "data": {
      "text/plain": [
       "True"
      ]
     },
     "execution_count": 18,
     "metadata": {},
     "output_type": "execute_result"
    }
   ],
   "source": [
    "nltk.download('punkt')"
   ]
  },
  {
   "cell_type": "code",
   "execution_count": 19,
   "id": "c74ebe6b-9344-47c2-92df-81485fb697ca",
   "metadata": {},
   "outputs": [],
   "source": [
    "#creating a sentiment analysis function "
   ]
  },
  {
   "cell_type": "code",
   "execution_count": 20,
   "id": "4a08fab7-fdc8-42c1-95da-9dcd6876e368",
   "metadata": {},
   "outputs": [],
   "source": [
    "def sentiment_analysis(text):\n",
    "    sia = SentimentIntensityAnalyzer()\n",
    "    sentiment_scores = sia.polarity_scores(text)\n",
    "    compound_scores = sentiment_scores['compound' ]\n",
    "    if compound_scores >= 0.05:\n",
    "         return \"positive\"\n",
    "    elif compound_scores <= -0.05 :\n",
    "         return \"negative \"\n",
    "    else:\n",
    "          return \"neutral\" \n",
    "     "
   ]
  },
  {
   "cell_type": "code",
   "execution_count": 21,
   "id": "a3239bff-79cf-4b9e-83d2-e53dc3a97b08",
   "metadata": {},
   "outputs": [],
   "source": [
    "# creating a chatbox function "
   ]
  },
  {
   "cell_type": "code",
   "execution_count": 22,
   "id": "ef7bf468-5086-4b38-9346-7abf77682cb4",
   "metadata": {},
   "outputs": [],
   "source": [
    "def chatbot():\n",
    "    print(\"welcome to the sentiment analysis chatbot\")\n",
    "    while True:\n",
    "        user_input = input(\"please enter a message : \")\n",
    "        sentiment =  sentiment_analysis(user_input)\n",
    "        print(f\"sentiment : {sentiment }\")\n",
    "        if user_input.lower() == \" quit \" :\n",
    "            break\n",
    "    print(\"goodbye\")\n",
    "          "
   ]
  },
  {
   "cell_type": "code",
   "execution_count": 23,
   "id": "ecbe3017-0051-4c02-b888-a99be348edb1",
   "metadata": {},
   "outputs": [],
   "source": [
    "# running the chatbot"
   ]
  },
  {
   "cell_type": "code",
   "execution_count": null,
   "id": "7e287118-dd49-4f91-8766-966658854938",
   "metadata": {},
   "outputs": [
    {
     "name": "stdout",
     "output_type": "stream",
     "text": [
      "welcome to the sentiment analysis chatbot\n"
     ]
    },
    {
     "name": "stdin",
     "output_type": "stream",
     "text": [
      "please enter a message :  this is good\n"
     ]
    },
    {
     "name": "stdout",
     "output_type": "stream",
     "text": [
      "sentiment : positive\n"
     ]
    },
    {
     "name": "stdin",
     "output_type": "stream",
     "text": [
      "please enter a message :  hi hiw are you\n"
     ]
    },
    {
     "name": "stdout",
     "output_type": "stream",
     "text": [
      "sentiment : neutral\n"
     ]
    },
    {
     "name": "stdin",
     "output_type": "stream",
     "text": [
      "please enter a message :  i think that is a bit bad\n"
     ]
    },
    {
     "name": "stdout",
     "output_type": "stream",
     "text": [
      "sentiment : negative \n"
     ]
    }
   ],
   "source": [
    "chatbot()"
   ]
  },
  {
   "cell_type": "code",
   "execution_count": null,
   "id": "619fefa9-6177-4489-be82-61a60ac5d1b9",
   "metadata": {},
   "outputs": [],
   "source": []
  },
  {
   "cell_type": "code",
   "execution_count": null,
   "id": "5a8aab14-0231-435c-bc60-430307751f32",
   "metadata": {},
   "outputs": [],
   "source": []
  }
 ],
 "metadata": {
  "kernelspec": {
   "display_name": "Python 3 (ipykernel)",
   "language": "python",
   "name": "python3"
  },
  "language_info": {
   "codemirror_mode": {
    "name": "ipython",
    "version": 3
   },
   "file_extension": ".py",
   "mimetype": "text/x-python",
   "name": "python",
   "nbconvert_exporter": "python",
   "pygments_lexer": "ipython3",
   "version": "3.8.10"
  }
 },
 "nbformat": 4,
 "nbformat_minor": 5
}
